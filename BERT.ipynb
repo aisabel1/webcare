{
 "cells": [
  {
   "cell_type": "code",
   "execution_count": 1,
   "metadata": {},
   "outputs": [],
   "source": [
    "import ktrain\n",
    "from ktrain import text\n",
    "import pandas as pd\n",
    "from pandas import DataFrame"
   ]
  },
  {
   "cell_type": "code",
   "execution_count": 2,
   "metadata": {},
   "outputs": [
    {
     "name": "stdout",
     "output_type": "stream",
     "text": [
      "detected encoding: utf-8 (if wrong, set manually)\n",
      "preprocessing train...\n",
      "language: en\n"
     ]
    },
    {
     "data": {
      "text/html": [
       "done."
      ],
      "text/plain": [
       "<IPython.core.display.HTML object>"
      ]
     },
     "metadata": {},
     "output_type": "display_data"
    },
    {
     "name": "stdout",
     "output_type": "stream",
     "text": [
      "Is Multi-Label? False\n",
      "preprocessing test...\n",
      "language: en\n"
     ]
    },
    {
     "data": {
      "text/html": [
       "done."
      ],
      "text/plain": [
       "<IPython.core.display.HTML object>"
      ]
     },
     "metadata": {},
     "output_type": "display_data"
    }
   ],
   "source": [
    "(x_train, y_train), (x_test, y_test), preproc = text.texts_from_csv('sigstaff.csv',\n",
    "                      label_columns = [\"label\"],\n",
    "                      text_column = \"text\",\n",
    "                      preprocess_mode='bert',\n",
    "                      ngram_range=1,\n",
    "                      val_pct=0.2,\n",
    "                      val_filepath=None,\n",
    "                      maxlen=256)"
   ]
  },
  {
   "cell_type": "code",
   "execution_count": 3,
   "metadata": {},
   "outputs": [
    {
     "name": "stdout",
     "output_type": "stream",
     "text": [
      "Is Multi-Label? False\n",
      "maxlen is 256\n",
      "done.\n"
     ]
    }
   ],
   "source": [
    "learner = ktrain.get_learner(text.text_classifier('bert', (x_train, y_train), preproc=preproc, metrics = ['accuracy','AUC']),\n",
    "                             train_data=(x_train, y_train),\n",
    "                             val_data=(x_test, y_test),\n",
    "                             batch_size=12)"
   ]
  },
  {
   "cell_type": "code",
   "execution_count": 4,
   "metadata": {
    "scrolled": true
   },
   "outputs": [
    {
     "name": "stdout",
     "output_type": "stream",
     "text": [
      "simulating training for different learning rates... this may take a few moments...\n",
      "Train on 648 samples\n",
      "Epoch 1/5\n",
      "648/648 [==============================] - 92s 142ms/sample - loss: 0.5969 - accuracy: 0.6358 - AUC: 0.7322\n",
      "Epoch 2/5\n",
      "648/648 [==============================] - 74s 114ms/sample - loss: 0.1981 - accuracy: 0.9321 - AUC: 0.9774\n",
      "Epoch 3/5\n",
      "648/648 [==============================] - 74s 115ms/sample - loss: 0.6470 - accuracy: 0.7963 - AUC: 0.8454\n",
      "Epoch 4/5\n",
      "372/648 [================>.............] - ETA: 31s - loss: 1.2203 - accuracy: 0.7204 - AUC: 0.8108\n",
      "\n",
      "done.\n",
      "Visually inspect loss plot and select learning rate associated with falling loss\n"
     ]
    },
    {
     "data": {
      "image/png": "[encoded data removed]",
      "text/plain": [
       "<Figure size 432x288 with 1 Axes>"
      ]
     },
     "metadata": {
      "needs_background": "light"
     },
     "output_type": "display_data"
    }
   ],
   "source": [
    "learner.lr_find(show_plot=True, max_epochs=5)"
   ]
  },
  {
   "cell_type": "code",
   "execution_count": 5,
   "metadata": {
    "scrolled": true
   },
   "outputs": [
    {
     "name": "stdout",
     "output_type": "stream",
     "text": [
      "early_stopping automatically enabled at patience=5\n",
      "reduce_on_plateau automatically enabled at patience=2\n",
      "\n",
      "\n",
      "begin training using triangular learning rate policy with max lr of 2e-05...\n",
      "Train on 648 samples, validate on 162 samples\n",
      "Epoch 1/1024\n",
      "648/648 [==============================] - 86s 132ms/sample - loss: 0.3238 - accuracy: 0.8673 - AUC: 0.9362 - val_loss: 0.1224 - val_accuracy: 0.9568 - val_AUC: 0.9889\n",
      "Epoch 2/1024\n",
      "648/648 [==============================] - 82s 126ms/sample - loss: 0.1426 - accuracy: 0.9583 - AUC: 0.9865 - val_loss: 0.0753 - val_accuracy: 0.9877 - val_AUC: 0.9936\n",
      "Epoch 3/1024\n",
      "648/648 [==============================] - 81s 124ms/sample - loss: 0.1156 - accuracy: 0.9645 - AUC: 0.9910 - val_loss: 0.0803 - val_accuracy: 0.9815 - val_AUC: 0.9942\n",
      "Epoch 4/1024\n",
      "648/648 [==============================] - 81s 125ms/sample - loss: 0.1046 - accuracy: 0.9660 - AUC: 0.9931 - val_loss: 0.0733 - val_accuracy: 0.9815 - val_AUC: 0.9957\n",
      "Epoch 5/1024\n",
      "648/648 [==============================] - 81s 124ms/sample - loss: 0.0906 - accuracy: 0.9722 - AUC: 0.9934 - val_loss: 0.0765 - val_accuracy: 0.9753 - val_AUC: 0.9958\n",
      "Epoch 6/1024\n",
      "648/648 [==============================] - 81s 125ms/sample - loss: 0.0826 - accuracy: 0.9738 - AUC: 0.9943 - val_loss: 0.0702 - val_accuracy: 0.9815 - val_AUC: 0.9914\n",
      "Epoch 7/1024\n",
      "648/648 [==============================] - 81s 125ms/sample - loss: 0.0780 - accuracy: 0.9738 - AUC: 0.9959 - val_loss: 0.0711 - val_accuracy: 0.9815 - val_AUC: 0.9918\n",
      "Epoch 8/1024\n",
      "636/648 [============================>.] - ETA: 1s - loss: 0.0816 - accuracy: 0.9717 - AUC: 0.9955\n",
      "Epoch 00008: Reducing Max LR on Plateau: new max lr will be 1e-05 (if not early_stopping).\n",
      "648/648 [==============================] - 80s 124ms/sample - loss: 0.0808 - accuracy: 0.9722 - AUC: 0.9957 - val_loss: 0.0743 - val_accuracy: 0.9815 - val_AUC: 0.9917\n",
      "Epoch 9/1024\n",
      "648/648 [==============================] - 81s 125ms/sample - loss: 0.0772 - accuracy: 0.9722 - AUC: 0.9950 - val_loss: 0.0697 - val_accuracy: 0.9877 - val_AUC: 0.9924\n",
      "Epoch 10/1024\n",
      "648/648 [==============================] - 81s 125ms/sample - loss: 0.0763 - accuracy: 0.9738 - AUC: 0.9958 - val_loss: 0.0710 - val_accuracy: 0.9877 - val_AUC: 0.9921\n",
      "Epoch 11/1024\n",
      "636/648 [============================>.] - ETA: 1s - loss: 0.0712 - accuracy: 0.9764 - AUC: 0.9976\n",
      "Epoch 00011: Reducing Max LR on Plateau: new max lr will be 5e-06 (if not early_stopping).\n",
      "648/648 [==============================] - 80s 124ms/sample - loss: 0.0701 - accuracy: 0.9769 - AUC: 0.9977 - val_loss: 0.0717 - val_accuracy: 0.9877 - val_AUC: 0.9924\n",
      "Epoch 12/1024\n",
      "648/648 [==============================] - 80s 123ms/sample - loss: 0.0652 - accuracy: 0.9784 - AUC: 0.9980 - val_loss: 0.0717 - val_accuracy: 0.9877 - val_AUC: 0.9925\n",
      "Epoch 13/1024\n",
      "636/648 [============================>.] - ETA: 1s - loss: 0.0627 - accuracy: 0.9796 - AUC: 0.9983\n",
      "Epoch 00013: Reducing Max LR on Plateau: new max lr will be 2.5e-06 (if not early_stopping).\n",
      "648/648 [==============================] - 80s 124ms/sample - loss: 0.0620 - accuracy: 0.9799 - AUC: 0.9983 - val_loss: 0.0740 - val_accuracy: 0.9877 - val_AUC: 0.9926\n",
      "Epoch 14/1024\n",
      "636/648 [============================>.] - ETA: 1s - loss: 0.0597 - accuracy: 0.9827 - AUC: 0.9982Restoring model weights from the end of the best epoch.\n",
      "648/648 [==============================] - 81s 125ms/sample - loss: 0.0588 - accuracy: 0.9830 - AUC: 0.9983 - val_loss: 0.0777 - val_accuracy: 0.9815 - val_AUC: 0.9926\n",
      "Epoch 00014: early stopping\n",
      "Weights from best epoch have been loaded into model.\n"
     ]
    },
    {
     "data": {
      "text/plain": [
       "<tensorflow.python.keras.callbacks.History at 0x7f8458574e50>"
      ]
     },
     "execution_count": 5,
     "metadata": {},
     "output_type": "execute_result"
    }
   ],
   "source": [
    "learner.autofit(2e-5)"
   ]
  },
  {
   "cell_type": "code",
   "execution_count": 6,
   "metadata": {},
   "outputs": [
    {
     "name": "stdout",
     "output_type": "stream",
     "text": [
      "              precision    recall  f1-score   support\n",
      "\n",
      "           0       0.99      0.99      0.99       142\n",
      "           1       0.95      0.95      0.95        20\n",
      "\n",
      "    accuracy                           0.99       162\n",
      "   macro avg       0.97      0.97      0.97       162\n",
      "weighted avg       0.99      0.99      0.99       162\n",
      "\n"
     ]
    },
    {
     "data": {
      "text/plain": [
       "array([[141,   1],\n",
       "       [  1,  19]])"
      ]
     },
     "execution_count": 6,
     "metadata": {},
     "output_type": "execute_result"
    }
   ],
   "source": [
    "learner.validate(val_data=(x_test, y_test))"
   ]
  },
  {
   "cell_type": "code",
   "execution_count": 7,
   "metadata": {},
   "outputs": [],
   "source": [
    "learner.model.save('models_sigstaff')"
   ]
  },
  {
   "cell_type": "code",
   "execution_count": 8,
   "metadata": {},
   "outputs": [],
   "source": [
    "learner.model.save_weights('models_sigstaff')"
   ]
  },
  {
   "cell_type": "code",
   "execution_count": 9,
   "metadata": {},
   "outputs": [],
   "source": [
    "predictor = ktrain.get_predictor(learner.model, preproc)"
   ]
  },
  {
   "cell_type": "code",
   "execution_count": 10,
   "metadata": {},
   "outputs": [],
   "source": [
    "db = pd.read_csv('data_forBERT_clean.csv', header=0)"
   ]
  },
  {
   "cell_type": "code",
   "execution_count": null,
   "metadata": {},
   "outputs": [
    {
     "data": {
      "text/html": [],
      "text/plain": [
       "<IPython.core.display.HTML object>"
      ]
     },
     "metadata": {},
     "output_type": "display_data"
    }
   ],
   "source": [
    "predictions = predictor.predict(db.text.tolist())"
   ]
  },
  {
   "cell_type": "code",
   "execution_count": null,
   "metadata": {},
   "outputs": [],
   "source": [
    "predictions_list = DataFrame(predictions, columns=['label'])"
   ]
  },
  {
   "cell_type": "code",
   "execution_count": null,
   "metadata": {},
   "outputs": [],
   "source": [
    "predictions_list.to_csv(\"sigstaff_preds.csv\")"
   ]
  },
  {
   "cell_type": "code",
   "execution_count": null,
   "metadata": {},
   "outputs": [],
   "source": []
  }
 ],
 "metadata": {
  "kernelspec": {
   "display_name": "py37_tensorflow",
   "language": "python",
   "name": "py37_tensorflow"
  },
  "language_info": {
   "codemirror_mode": {
    "name": "ipython",
    "version": 3
   },
   "file_extension": ".py",
   "mimetype": "text/x-python",
   "name": "python",
   "nbconvert_exporter": "python",
   "pygments_lexer": "ipython3",
   "version": "3.7.7"
  }
 },
 "nbformat": 4,
 "nbformat_minor": 4
}
